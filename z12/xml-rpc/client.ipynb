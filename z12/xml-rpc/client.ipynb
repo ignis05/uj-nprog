{
 "cells": [
  {
   "cell_type": "code",
   "execution_count": 48,
   "metadata": {},
   "outputs": [],
   "source": [
    "import xmlrpc.client\n",
    "proxy = xmlrpc.client.ServerProxy(\"http://localhost:8000/\", allow_none=True)\n"
   ]
  },
  {
   "cell_type": "code",
   "execution_count": 35,
   "metadata": {},
   "outputs": [],
   "source": [
    "def printAll(rows):\n",
    "    for row in rows:\n",
    "        print(row)\n",
    "    "
   ]
  },
  {
   "cell_type": "code",
   "execution_count": 50,
   "metadata": {},
   "outputs": [
    {
     "name": "stdout",
     "output_type": "stream",
     "text": [
      "[1, 'Anna', 'Nowak', '+48124569988', 'Rynek Główny 2, 30-001 Kraków']\n",
      "[2, 'Jan', 'Kowalski', '+48127770022', 'ul. Podzamcze 1, 31-001 Kraków']\n",
      "[3, 'Test', 'Nowak2', '+48124569988', 'Rynek Główny 2, 30-001 Kraków']\n",
      "[4, 'Insert', 'Test', None, None]\n",
      "[5, 'Insert', 'Test', None, None]\n",
      "[6, 'Insert', 'Test', None, None]\n",
      "[7, 'Insert', 'Test', None, None]\n",
      "[8, 'Insert', 'Test', None, None]\n"
     ]
    }
   ],
   "source": [
    "rows = proxy.query()\n",
    "printAll(rows)"
   ]
  },
  {
   "cell_type": "code",
   "execution_count": 46,
   "metadata": {},
   "outputs": [
    {
     "name": "stdout",
     "output_type": "stream",
     "text": [
      "['+48124569988']\n",
      "['+48124569988']\n"
     ]
    }
   ],
   "source": [
    "rows = proxy.query('SELECT telefon FROM osoby WHERE nazwisko LIKE \"Nowak%\"')\n",
    "printAll(rows)"
   ]
  },
  {
   "cell_type": "code",
   "execution_count": 51,
   "metadata": {},
   "outputs": [
    {
     "name": "stdout",
     "output_type": "stream",
     "text": [
      "[1, 'Anna', 'Nowak', '+48124569988', 'Rynek Główny 2, 30-001 Kraków']\n",
      "[2, 'Jan', 'Kowalski', '+48127770022', 'ul. Podzamcze 1, 31-001 Kraków']\n",
      "[3, 'Test', 'Nowak2', '+48124569988', 'Rynek Główny 2, 30-001 Kraków']\n",
      "[4, 'Insert', 'Test', None, None]\n",
      "[5, 'Insert', 'Test', None, None]\n",
      "[6, 'Insert', 'Test', None, None]\n",
      "[7, 'Insert', 'Test', None, None]\n",
      "[8, 'Insert', 'Test', None, None]\n",
      "[9, 'TEST', 'INSERT', None, None]\n"
     ]
    }
   ],
   "source": [
    "proxy.commit('INSERT INTO osoby (imie, nazwisko) VALUES (\"TEST\", \"INSERT\")')\n",
    "printAll(proxy.query('SELECT * FROM osoby'))\n"
   ]
  },
  {
   "cell_type": "code",
   "execution_count": 53,
   "metadata": {},
   "outputs": [
    {
     "name": "stdout",
     "output_type": "stream",
     "text": [
      "[1, 'Anna', 'Nowak', '+48124569988', 'Rynek Główny 2, 30-001 Kraków']\n",
      "[2, 'Jan', 'Kowalski', '+48127770022', 'ul. Podzamcze 1, 31-001 Kraków']\n",
      "[3, 'Test', 'Nowak2', '+48124569988', 'Rynek Główny 2, 30-001 Kraków']\n"
     ]
    }
   ],
   "source": [
    "proxy.commit('DELETE FROM osoby WHERE imie = \"TEST\"')\n",
    "printAll(proxy.query('SELECT * FROM osoby'))"
   ]
  }
 ],
 "metadata": {
  "interpreter": {
   "hash": "11938c6bc6919ae2720b4d5011047913343b08a43b18698fd82dedb0d4417594"
  },
  "kernelspec": {
   "display_name": "Python 3.9.7 64-bit",
   "language": "python",
   "name": "python3"
  },
  "language_info": {
   "codemirror_mode": {
    "name": "ipython",
    "version": 3
   },
   "file_extension": ".py",
   "mimetype": "text/x-python",
   "name": "python",
   "nbconvert_exporter": "python",
   "pygments_lexer": "ipython3",
   "version": "3.9.7"
  },
  "orig_nbformat": 4
 },
 "nbformat": 4,
 "nbformat_minor": 2
}
